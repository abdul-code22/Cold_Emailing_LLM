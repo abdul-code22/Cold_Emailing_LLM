{
 "cells": [
  {
   "cell_type": "code",
   "execution_count": 3,
   "id": "0f76f97c",
   "metadata": {
    "execution": {
     "iopub.execute_input": "2024-09-06T08:41:55.126925Z",
     "iopub.status.busy": "2024-09-06T08:41:55.126925Z",
     "iopub.status.idle": "2024-09-06T08:42:01.320765Z",
     "shell.execute_reply": "2024-09-06T08:42:01.320765Z",
     "shell.execute_reply.started": "2024-09-06T08:41:55.126925Z"
    }
   },
   "outputs": [
    {
     "name": "stdout",
     "output_type": "stream",
     "text": [
      "The first person to spacewalk was Alexei Leonov, a Soviet cosmonaut. He performed the historic spacewalk on March 18, 1965, during the Voskhod 2 mission.\n"
     ]
    }
   ],
   "source": [
    "from langchain_groq import ChatGroq\n",
    "\n",
    "llm = ChatGroq(\n",
    "    temperature=0, \n",
    "    groq_api_key='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', \n",
    "    model_name=\"llama-3.1-70b-versatile\"\n",
    ")\n",
    "\n",
    "response = llm.invoke(\"The first person to space walk was ...\")\n",
    "print(response.content)"
   ]
  },
  {
   "cell_type": "code",
   "execution_count": null,
   "id": "f9e0a990-f16a-49e8-9ea3-7dbaa2450d0f",
   "metadata": {},
   "outputs": [],
   "source": []
  }
 ],
 "metadata": {
  "kernelspec": {
   "display_name": "Python 3 (ipykernel)",
   "language": "python",
   "name": "python3"
  },
  "language_info": {
   "codemirror_mode": {
    "name": "ipython",
    "version": 3
   },
   "file_extension": ".py",
   "mimetype": "text/x-python",
   "name": "python",
   "nbconvert_exporter": "python",
   "pygments_lexer": "ipython3",
   "version": "3.11.1"
  }
 },
 "nbformat": 4,
 "nbformat_minor": 5
}
