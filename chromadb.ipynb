{
 "cells": [
  {
   "cell_type": "code",
   "execution_count": 1,
   "id": "e7156610",
   "metadata": {
    "execution": {
     "iopub.execute_input": "2024-09-06T08:44:56.294363Z",
     "iopub.status.busy": "2024-09-06T08:44:56.294363Z",
     "iopub.status.idle": "2024-09-06T08:45:03.123319Z",
     "shell.execute_reply": "2024-09-06T08:45:03.123319Z",
     "shell.execute_reply.started": "2024-09-06T08:44:56.294363Z"
    }
   },
   "outputs": [],
   "source": [
    "import chromadb\n",
    "\n",
    "client = chromadb.Client()\n",
    "collection = client.create_collection(name=\"my_collection\")"
   ]
  },
  {
   "cell_type": "code",
   "execution_count": 14,
   "id": "6f35da91",
   "metadata": {
    "execution": {
     "iopub.execute_input": "2024-09-06T11:05:29.458429Z",
     "iopub.status.busy": "2024-09-06T11:05:29.458429Z",
     "iopub.status.idle": "2024-09-06T11:05:29.689479Z",
     "shell.execute_reply": "2024-09-06T11:05:29.689479Z",
     "shell.execute_reply.started": "2024-09-06T11:05:29.458429Z"
    }
   },
   "outputs": [],
   "source": [
    "collection.add(\n",
    "    documents=[\n",
    "        \"This document is about New York\",\n",
    "        \"This document is about Delhi\"\n",
    "    ],\n",
    "    ids = ['id1', 'id2']\n",
    ")"
   ]
  },
  {
   "cell_type": "code",
   "execution_count": 15,
   "id": "023d55f8",
   "metadata": {
    "execution": {
     "iopub.execute_input": "2024-09-06T11:05:32.966801Z",
     "iopub.status.busy": "2024-09-06T11:05:32.966801Z",
     "iopub.status.idle": "2024-09-06T11:05:32.981533Z",
     "shell.execute_reply": "2024-09-06T11:05:32.980882Z",
     "shell.execute_reply.started": "2024-09-06T11:05:32.966801Z"
    }
   },
   "outputs": [
    {
     "data": {
      "text/plain": [
       "{'ids': ['id1', 'id2'],\n",
       " 'embeddings': None,\n",
       " 'metadatas': [None, None],\n",
       " 'documents': ['This document is about New York',\n",
       "  'This document is about Delhi'],\n",
       " 'uris': None,\n",
       " 'data': None}"
      ]
     },
     "execution_count": 15,
     "metadata": {},
     "output_type": "execute_result"
    }
   ],
   "source": [
    "all_docs = collection.get()\n",
    "all_docs"
   ]
  },
  {
   "cell_type": "code",
   "execution_count": 16,
   "id": "669928f2",
   "metadata": {
    "execution": {
     "iopub.execute_input": "2024-09-06T11:05:37.698113Z",
     "iopub.status.busy": "2024-09-06T11:05:37.698113Z",
     "iopub.status.idle": "2024-09-06T11:05:37.717063Z",
     "shell.execute_reply": "2024-09-06T11:05:37.716561Z",
     "shell.execute_reply.started": "2024-09-06T11:05:37.698113Z"
    }
   },
   "outputs": [
    {
     "data": {
      "text/plain": [
       "{'ids': ['id1'],\n",
       " 'embeddings': None,\n",
       " 'metadatas': [None],\n",
       " 'documents': ['This document is about New York'],\n",
       " 'uris': None,\n",
       " 'data': None}"
      ]
     },
     "execution_count": 16,
     "metadata": {},
     "output_type": "execute_result"
    }
   ],
   "source": [
    "documents = collection.get(ids=[\"id1\"])\n",
    "documents"
   ]
  },
  {
   "cell_type": "code",
   "execution_count": 18,
   "id": "01f89e5b",
   "metadata": {
    "execution": {
     "iopub.execute_input": "2024-09-06T11:06:13.849462Z",
     "iopub.status.busy": "2024-09-06T11:06:13.848755Z",
     "iopub.status.idle": "2024-09-06T11:06:13.962148Z",
     "shell.execute_reply": "2024-09-06T11:06:13.961158Z",
     "shell.execute_reply.started": "2024-09-06T11:06:13.849462Z"
    },
    "scrolled": true
   },
   "outputs": [
    {
     "data": {
      "text/plain": [
       "{'ids': [['id2']],\n",
       " 'distances': [[1.0470460653305054]],\n",
       " 'metadatas': [[None]],\n",
       " 'embeddings': None,\n",
       " 'documents': [['This document is about Delhi']],\n",
       " 'uris': None,\n",
       " 'data': None}"
      ]
     },
     "execution_count": 18,
     "metadata": {},
     "output_type": "execute_result"
    }
   ],
   "source": [
    "results = collection.query(\n",
    "    query_texts=['Query is about mughal monuments'],\n",
    "    n_results=1\n",
    ")\n",
    "results"
   ]
  },
  {
   "cell_type": "code",
   "execution_count": 6,
   "id": "4492fd01",
   "metadata": {
    "execution": {
     "iopub.execute_input": "2024-09-06T08:59:26.914819Z",
     "iopub.status.busy": "2024-09-06T08:59:26.914819Z",
     "iopub.status.idle": "2024-09-06T08:59:26.926615Z",
     "shell.execute_reply": "2024-09-06T08:59:26.924318Z",
     "shell.execute_reply.started": "2024-09-06T08:59:26.914819Z"
    }
   },
   "outputs": [
    {
     "data": {
      "text/plain": [
       "{'ids': [],\n",
       " 'embeddings': None,\n",
       " 'metadatas': [],\n",
       " 'documents': [],\n",
       " 'uris': None,\n",
       " 'data': None}"
      ]
     },
     "execution_count": 6,
     "metadata": {},
     "output_type": "execute_result"
    }
   ],
   "source": [
    "collection.delete(ids=all_docs['ids'])\n",
    "collection.get()"
   ]
  },
  {
   "cell_type": "code",
   "execution_count": 19,
   "id": "197e4bad",
   "metadata": {
    "execution": {
     "iopub.execute_input": "2024-09-06T11:06:24.623891Z",
     "iopub.status.busy": "2024-09-06T11:06:24.621932Z",
     "iopub.status.idle": "2024-09-06T11:06:24.835844Z",
     "shell.execute_reply": "2024-09-06T11:06:24.834917Z",
     "shell.execute_reply.started": "2024-09-06T11:06:24.623891Z"
    }
   },
   "outputs": [],
   "source": [
    "collection.add(\n",
    "    documents=[\n",
    "        \"This document is about New York\",\n",
    "        \"This document is about Delhi\"\n",
    "    ],\n",
    "    ids=[\"id3\", \"id4\"],\n",
    "    metadatas=[\n",
    "        {\"url\": \"https://en.wikipedia.org/wiki/New_York_City\"},\n",
    "        {\"url\": \"https://en.wikipedia.org/wiki/New_Delhi\"}\n",
    "    ]\n",
    ")"
   ]
  },
  {
   "cell_type": "code",
   "execution_count": 20,
   "id": "d25c8d29",
   "metadata": {
    "execution": {
     "iopub.execute_input": "2024-09-06T11:06:28.866555Z",
     "iopub.status.busy": "2024-09-06T11:06:28.865021Z",
     "iopub.status.idle": "2024-09-06T11:06:28.976768Z",
     "shell.execute_reply": "2024-09-06T11:06:28.974532Z",
     "shell.execute_reply.started": "2024-09-06T11:06:28.866555Z"
    }
   },
   "outputs": [
    {
     "data": {
      "text/plain": [
       "{'ids': [['id2', 'id4']],\n",
       " 'distances': [[1.5588479042053223, 1.5588479042053223]],\n",
       " 'metadatas': [[None, {'url': 'https://en.wikipedia.org/wiki/New_Delhi'}]],\n",
       " 'embeddings': None,\n",
       " 'documents': [['This document is about Delhi',\n",
       "   'This document is about Delhi']],\n",
       " 'uris': None,\n",
       " 'data': None}"
      ]
     },
     "execution_count": 20,
     "metadata": {},
     "output_type": "execute_result"
    }
   ],
   "source": [
    "results = collection.query(\n",
    "    query_texts=[\"Query is about Chhole Bhature\"],\n",
    "    n_results=2\n",
    ")\n",
    "results"
   ]
  },
  {
   "cell_type": "code",
   "execution_count": null,
   "id": "2a67f34a-6713-4b30-bf0a-2f1d51cf4062",
   "metadata": {},
   "outputs": [],
   "source": []
  }
 ],
 "metadata": {
  "kernelspec": {
   "display_name": "Python 3 (ipykernel)",
   "language": "python",
   "name": "python3"
  },
  "language_info": {
   "codemirror_mode": {
    "name": "ipython",
    "version": 3
   },
   "file_extension": ".py",
   "mimetype": "text/x-python",
   "name": "python",
   "nbconvert_exporter": "python",
   "pygments_lexer": "ipython3",
   "version": "3.11.1"
  }
 },
 "nbformat": 4,
 "nbformat_minor": 5
}
