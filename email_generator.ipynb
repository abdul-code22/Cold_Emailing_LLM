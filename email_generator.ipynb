{
 "cells": [
  {
   "cell_type": "code",
   "execution_count": 1,
   "id": "0eccd20e",
   "metadata": {
    "execution": {
     "iopub.execute_input": "2024-09-15T16:47:44.899151Z",
     "iopub.status.busy": "2024-09-15T16:47:44.899151Z",
     "iopub.status.idle": "2024-09-15T16:47:45.935152Z",
     "shell.execute_reply": "2024-09-15T16:47:45.935152Z",
     "shell.execute_reply.started": "2024-09-15T16:47:44.899151Z"
    }
   },
   "outputs": [],
   "source": [
    "from langchain_groq import ChatGroq"
   ]
  },
  {
   "cell_type": "code",
   "execution_count": 2,
   "id": "c16ff50e",
   "metadata": {
    "execution": {
     "iopub.execute_input": "2024-09-15T16:47:46.867137Z",
     "iopub.status.busy": "2024-09-15T16:47:46.867137Z",
     "iopub.status.idle": "2024-09-15T16:47:49.723278Z",
     "shell.execute_reply": "2024-09-15T16:47:49.723278Z",
     "shell.execute_reply.started": "2024-09-15T16:47:46.867137Z"
    }
   },
   "outputs": [
    {
     "name": "stdout",
     "output_type": "stream",
     "text": [
      "The first person to land on the moon was Neil Armstrong. He stepped onto the lunar surface on July 20, 1969, as part of the Apollo 11 mission.\n"
     ]
    }
   ],
   "source": [
    "llm = ChatGroq(\n",
    "    temperature=0, \n",
    "    groq_api_key='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', \n",
    "    model_name=\"llama-3.1-70b-versatile\"\n",
    ")\n",
    "response = llm.invoke(\"The first person to land on moon was ...\")\n",
    "print(response.content)"
   ]
  },
  {
   "cell_type": "code",
   "execution_count": 7,
   "id": "90d33612",
   "metadata": {
    "execution": {
     "iopub.execute_input": "2024-09-15T16:53:12.093523Z",
     "iopub.status.busy": "2024-09-15T16:53:12.093523Z",
     "iopub.status.idle": "2024-09-15T16:53:13.028037Z",
     "shell.execute_reply": "2024-09-15T16:53:13.028037Z",
     "shell.execute_reply.started": "2024-09-15T16:53:12.093523Z"
    }
   },
   "outputs": [
    {
     "name": "stdout",
     "output_type": "stream",
     "text": [
      "Apply for Senior Information Security Engineer, ITC\n",
      "\n",
      "Search JobsSkip navigationSearch JobsNIKE, INC. JOBSContract JobsJoin The Talent CommunityLife @ NikeOverviewBenefitsBrandsOverviewJordanConverseTeamsOverviewAdministrative SupportAdvanced InnovationAir Manufacturing InnovationAviationCommunicationsCustomer ServiceDesignDigitalFacilitiesFinance & AccountingGovernment & Public AffairsHuman ResourcesInsights & AnalyticsLegalManufacturing & EngineeringMarketingMerchandisingPlanningPrivacyProcurementProduct Creation, Development & ManagementRetail CorporateRetail StoresSalesSocial & Community ImpactSports MarketingStrategic PlanningSupply Chain, Distribution & LogisticsSustainabilityTechnologyLocationsOverviewNike WHQNike New York HQEHQ: Hilversum, The NetherlandsELC: Laakdal, BelgiumGreater China HQDiversity, Equity & InclusionOverviewMilitary InclusionDisability InclusionIndigenous InclusionInternshipsTechnologySenior Information Security Engineer, ITCKarnataka, IndiaBecome a Part of the NIKE, Inc. TeamNIKE, Inc. does more than outfit the world’s best athletes. It is a place to explore potential, obliterate boundaries and push out the edges of what can be. The company looks for people who can grow, think, dream and create. Its culture thrives by embracing diversity and rewarding imagination. The brand seeks achievers, leaders and visionaries. At NIKE, Inc. it’s about each person bringing skills and passion to a challenging and constantly evolving game.NIKE is a technology company. From our flagship website and five-star mobile apps to developing products, managing big data and providing leading edge engineering and systems support, our teams at NIKE Global Technology exist to revolutionize the future at the confluence of tech and sport. We invest and develop advances in technology and employ the most creative people in the world, and then give them the support to constantly innovate, iterate and serve consumers more directly and personally.  Our teams are innovative, diverse, multidisciplinary and collaborative, taking technology into the future and bringing the world with it.SECTION 1: WHO ARE WE LOOKING FORWe’re looking for a Sr. Cybersecurity Engineer with more than 5+ year’s experience on the Security products for Security Technology Management team to provide hands-on technical and tactical expertise to a 24x7 team (Support during India business hours) of dedicated security engineers focused on maintaining operational stability while reducing risk. You will work on a team of experienced security professionals who are passionate about their work and Nike.  We are a diverse, cross-functional team that collaborates globally across the organization with a variety of stakeholders from service desk technicians to system architects, developers and lawyers. Our realm of capabilities and toolsets that we leverage include Endpoint Protection, Web proxy security, email security, IDS/IPS, WAF, PKI and Advanced Threat Protection.SECTION 2: WHAT WILL YOU WORK ONSupport the deployment, and ongoing maintenance of security controls that protect Nike’s systems and data. Primary focus on web proxy products and end point security.Assess, analyze, and optimize operational tasks, functions and processes.Provide technical and tactical expertise to a 24x7 team during India business hours. Also, provide support to Sev1 and Sev2 incidents as part of on-call responsibility to dedicated security engineers focused on maintaining operational stability while reducing riskAdminister and maintain endpoint security controls.Maintaining proper saturation of endpoint security controls; versions, scoping and exclusions.Documentation of Knowledgebase articles, How-to’s, policies and procedures.SECTION 3: WHO WILL YOU WORK WITHYou will report into the Cybersecurity Solutions & Delivery team.  You will partner closely with Cyber Defense, Data Protection, Windows Client/Server Platform and Cloud Security/Automation teams to assess, analyze, and optimize operational tasks, functions and processes.SECTION 4: WHAT YOU BRING You have strong problem-solving skills in 2 or more of the above listed capabilities/toolsets and thrive on your ability to determine root cause and provide relevant solutions.An operational mindset is in your blood; the ad-hoc change of evening or weekend plans is seen as an opportunity to grow and excel.Ability to juggle multiple priorities where you are the driving force ensuring completion and on-time delivery.Cloud, automation and scripting aren’t just buzz words but synonymous with your delivery methods.Change is an opportunity and ambiguity doesn’t rattle you.You leverage excellent written and verbal communication skills in a clear business relevant manner that is adjusted to the audience; up, down and across the organization.Independent sound decision making is the skill most used on a daily basis.Collaboration, mentoring and training members of your team are an innate core skillsetPassionate about security and self-driven to one-day become an expert.You rely on your previous enterprise experience and enjoy the challenge of slaying large and ever-changing technical dragons.Your formal education is, or work experience is similar to, a Bachelor’s Degree in Information Technology, Information Security/Assurance, Engineering, or related field of study.Industry certifications relevant to the role: web proxy certifications, end point certifications will provide an added advantage.If you believe your approach to security balances risk against the needs of the business; you excel in a highly-matrixed, organized-chaos environment we want to hear from you.NIKE, Inc. is a growth company that looks for team members to grow with it. Nike offers a generous total rewards package, casual work environment, a diverse and inclusive culture, and an electric atmosphere for professional development. No matter the location, or the role, every Nike employee shares one galvanizing mission: To bring inspiration and innovation to every athlete* in the world.NIKE, Inc. is committed to employing a diverse workforce. Qualified applicants will receive consideration without regard to race, color, religion, sex, national origin, age, sexual orientation, gender identity, gender expression, veteran status, or disability.How We HireAt NIKE, Inc. we promise to provide a premium, inclusive, compelling and authentic candidate experience. Delivering on this promise means we allow you to be at your best — and to do that, you need to understand how the hiring process works. Transparency is key.\n",
      "\n",
      "* This overview explains our hiring process for corporate roles. Note there may be different hiring steps involved for non-corporate roles.Start nowBenefitsWhether it’s transportation or financial health, we continually invest in our employees to help them achieve greatness — inside and outside of work. All who work here should be able to realize their full potential.Employee Assistance ProgramHolidaysMedical PlanPaid Time Off (PTO)Product DiscountsLearn moreFIND A STOREBECOME A MEMBERSIGN UP FOR EMAILSEND US FEEDBACKSTUDENT DISCOUNTSGET HELPGET HELPOrder StatusDeliveryReturnsPayment OptionsContact Us On Nike.com InquiriesContact Us On All Other InquiriesABOUT NIKEABOUT NIKENewsCareersInvestorsSustainabilityIndia© 2024 Nike, Inc. All Rights ReservedGuidesNike AdaptNike Air MaxNike FlyleatherNike PegasusNike Zoom FlyNike AirNike FlyEaseNike FreeNike ReactNike ZoomXNike Air Force 1Nike FlyknitNike JoyrideNike VaporflyTerms of SaleTerms of UseNike Privacy Policy\n"
     ]
    }
   ],
   "source": [
    "from langchain_community.document_loaders import WebBaseLoader\n",
    "\n",
    "loader = WebBaseLoader(\"https://jobs.nike.com/job/R-30433?from=job%20search%20funnel\")\n",
    "page_data = loader.load().pop().page_content\n",
    "print(page_data)"
   ]
  },
  {
   "cell_type": "code",
   "execution_count": 8,
   "id": "85c89a57",
   "metadata": {
    "execution": {
     "iopub.execute_input": "2024-09-15T16:53:18.890312Z",
     "iopub.status.busy": "2024-09-15T16:53:18.890312Z",
     "iopub.status.idle": "2024-09-15T16:53:22.784147Z",
     "shell.execute_reply": "2024-09-15T16:53:22.784147Z",
     "shell.execute_reply.started": "2024-09-15T16:53:18.890312Z"
    }
   },
   "outputs": [
    {
     "data": {
      "text/plain": [
       "str"
      ]
     },
     "execution_count": 8,
     "metadata": {},
     "output_type": "execute_result"
    }
   ],
   "source": [
    "from langchain_core.prompts import PromptTemplate\n",
    "\n",
    "prompt_extract = PromptTemplate.from_template(\n",
    "        \"\"\"\n",
    "        ### SCRAPED TEXT FROM WEBSITE:\n",
    "        {page_data}\n",
    "        ### INSTRUCTION:\n",
    "        The scraped text is from the career's page of a website.\n",
    "        Your job is to extract the job postings and return them in JSON format containing the \n",
    "        following keys: `role`, `experience`, `skills` and `description`.\n",
    "        Only return the valid JSON.\n",
    "        ### VALID JSON (NO PREAMBLE):    \n",
    "        \"\"\"\n",
    ")\n",
    "\n",
    "chain_extract = prompt_extract | llm \n",
    "res = chain_extract.invoke(input={'page_data':page_data})\n",
    "type(res.content)\n"
   ]
  },
  {
   "cell_type": "code",
   "execution_count": 9,
   "id": "5415fd54",
   "metadata": {
    "execution": {
     "iopub.execute_input": "2024-09-15T16:53:25.314465Z",
     "iopub.status.busy": "2024-09-15T16:53:25.314465Z",
     "iopub.status.idle": "2024-09-15T16:53:25.333011Z",
     "shell.execute_reply": "2024-09-15T16:53:25.333011Z",
     "shell.execute_reply.started": "2024-09-15T16:53:25.314465Z"
    }
   },
   "outputs": [
    {
     "data": {
      "text/plain": [
       "{'role': 'Senior Information Security Engineer, ITC',\n",
       " 'experience': '5+ years',\n",
       " 'skills': ['Endpoint Protection',\n",
       "  'Web proxy security',\n",
       "  'Email security',\n",
       "  'IDS/IPS',\n",
       "  'WAF',\n",
       "  'PKI',\n",
       "  'Advanced Threat Protection',\n",
       "  'Cloud',\n",
       "  'Automation',\n",
       "  'Scripting',\n",
       "  'Web proxy certifications',\n",
       "  'Endpoint certifications'],\n",
       " 'description': 'We’re looking for a Sr. Cybersecurity Engineer to provide hands-on technical and tactical expertise to a 24x7 team of dedicated security engineers focused on maintaining operational stability while reducing risk. You will work on a team of experienced security professionals who are passionate about their work and Nike.'}"
      ]
     },
     "execution_count": 9,
     "metadata": {},
     "output_type": "execute_result"
    }
   ],
   "source": [
    "from langchain_core.output_parsers import JsonOutputParser\n",
    "\n",
    "json_parser = JsonOutputParser()\n",
    "json_res = json_parser.parse(res.content)\n",
    "json_res"
   ]
  },
  {
   "cell_type": "code",
   "execution_count": 10,
   "id": "39961ed6",
   "metadata": {
    "execution": {
     "iopub.execute_input": "2024-09-15T16:53:30.242310Z",
     "iopub.status.busy": "2024-09-15T16:53:30.242310Z",
     "iopub.status.idle": "2024-09-15T16:53:30.251847Z",
     "shell.execute_reply": "2024-09-15T16:53:30.251847Z",
     "shell.execute_reply.started": "2024-09-15T16:53:30.242310Z"
    }
   },
   "outputs": [
    {
     "data": {
      "text/plain": [
       "dict"
      ]
     },
     "execution_count": 10,
     "metadata": {},
     "output_type": "execute_result"
    }
   ],
   "source": [
    "type(json_res)"
   ]
  },
  {
   "cell_type": "code",
   "execution_count": 11,
   "id": "1e8a0f74",
   "metadata": {
    "execution": {
     "iopub.execute_input": "2024-09-15T16:53:35.561275Z",
     "iopub.status.busy": "2024-09-15T16:53:35.561275Z",
     "iopub.status.idle": "2024-09-15T16:53:37.937063Z",
     "shell.execute_reply": "2024-09-15T16:53:37.937063Z",
     "shell.execute_reply.started": "2024-09-15T16:53:35.561275Z"
    }
   },
   "outputs": [
    {
     "data": {
      "text/html": [
       "<div>\n",
       "<style scoped>\n",
       "    .dataframe tbody tr th:only-of-type {\n",
       "        vertical-align: middle;\n",
       "    }\n",
       "\n",
       "    .dataframe tbody tr th {\n",
       "        vertical-align: top;\n",
       "    }\n",
       "\n",
       "    .dataframe thead th {\n",
       "        text-align: right;\n",
       "    }\n",
       "</style>\n",
       "<table border=\"1\" class=\"dataframe\">\n",
       "  <thead>\n",
       "    <tr style=\"text-align: right;\">\n",
       "      <th></th>\n",
       "      <th>Techstack</th>\n",
       "      <th>Links</th>\n",
       "    </tr>\n",
       "  </thead>\n",
       "  <tbody>\n",
       "    <tr>\n",
       "      <th>0</th>\n",
       "      <td>React, Node.js, MongoDB</td>\n",
       "      <td>https://example.com/react-portfolio</td>\n",
       "    </tr>\n",
       "    <tr>\n",
       "      <th>1</th>\n",
       "      <td>Angular,.NET, SQL Server</td>\n",
       "      <td>https://example.com/angular-portfolio</td>\n",
       "    </tr>\n",
       "    <tr>\n",
       "      <th>2</th>\n",
       "      <td>Vue.js, Ruby on Rails, PostgreSQL</td>\n",
       "      <td>https://example.com/vue-portfolio</td>\n",
       "    </tr>\n",
       "    <tr>\n",
       "      <th>3</th>\n",
       "      <td>Python, Django, MySQL</td>\n",
       "      <td>https://example.com/python-portfolio</td>\n",
       "    </tr>\n",
       "    <tr>\n",
       "      <th>4</th>\n",
       "      <td>Java, Spring Boot, Oracle</td>\n",
       "      <td>https://example.com/java-portfolio</td>\n",
       "    </tr>\n",
       "    <tr>\n",
       "      <th>5</th>\n",
       "      <td>Flutter, Firebase, GraphQL</td>\n",
       "      <td>https://example.com/flutter-portfolio</td>\n",
       "    </tr>\n",
       "    <tr>\n",
       "      <th>6</th>\n",
       "      <td>WordPress, PHP, MySQL</td>\n",
       "      <td>https://example.com/wordpress-portfolio</td>\n",
       "    </tr>\n",
       "    <tr>\n",
       "      <th>7</th>\n",
       "      <td>Magento, PHP, MySQL</td>\n",
       "      <td>https://example.com/magento-portfolio</td>\n",
       "    </tr>\n",
       "    <tr>\n",
       "      <th>8</th>\n",
       "      <td>React Native, Node.js, MongoDB</td>\n",
       "      <td>https://example.com/react-native-portfolio</td>\n",
       "    </tr>\n",
       "    <tr>\n",
       "      <th>9</th>\n",
       "      <td>iOS, Swift, Core Data</td>\n",
       "      <td>https://example.com/ios-portfolio</td>\n",
       "    </tr>\n",
       "    <tr>\n",
       "      <th>10</th>\n",
       "      <td>Android, Java, Room Persistence</td>\n",
       "      <td>https://example.com/android-portfolio</td>\n",
       "    </tr>\n",
       "    <tr>\n",
       "      <th>11</th>\n",
       "      <td>Kotlin, Android, Firebase</td>\n",
       "      <td>https://example.com/kotlin-android-portfolio</td>\n",
       "    </tr>\n",
       "    <tr>\n",
       "      <th>12</th>\n",
       "      <td>Android TV, Kotlin, Android NDK</td>\n",
       "      <td>https://example.com/android-tv-portfolio</td>\n",
       "    </tr>\n",
       "    <tr>\n",
       "      <th>13</th>\n",
       "      <td>iOS, Swift, ARKit</td>\n",
       "      <td>https://example.com/ios-ar-portfolio</td>\n",
       "    </tr>\n",
       "    <tr>\n",
       "      <th>14</th>\n",
       "      <td>Cross-platform, Xamarin, Azure</td>\n",
       "      <td>https://example.com/xamarin-portfolio</td>\n",
       "    </tr>\n",
       "    <tr>\n",
       "      <th>15</th>\n",
       "      <td>Backend, Kotlin, Spring Boot</td>\n",
       "      <td>https://example.com/kotlin-backend-portfolio</td>\n",
       "    </tr>\n",
       "    <tr>\n",
       "      <th>16</th>\n",
       "      <td>Frontend, TypeScript, Angular</td>\n",
       "      <td>https://example.com/typescript-frontend-portfolio</td>\n",
       "    </tr>\n",
       "    <tr>\n",
       "      <th>17</th>\n",
       "      <td>Full-stack, JavaScript, Express.js</td>\n",
       "      <td>https://example.com/full-stack-js-portfolio</td>\n",
       "    </tr>\n",
       "    <tr>\n",
       "      <th>18</th>\n",
       "      <td>Machine Learning, Python, TensorFlow</td>\n",
       "      <td>https://example.com/ml-python-portfolio</td>\n",
       "    </tr>\n",
       "    <tr>\n",
       "      <th>19</th>\n",
       "      <td>DevOps, Jenkins, Docker</td>\n",
       "      <td>https://example.com/devops-portfolio</td>\n",
       "    </tr>\n",
       "  </tbody>\n",
       "</table>\n",
       "</div>"
      ],
      "text/plain": [
       "                               Techstack  \\\n",
       "0                React, Node.js, MongoDB   \n",
       "1               Angular,.NET, SQL Server   \n",
       "2      Vue.js, Ruby on Rails, PostgreSQL   \n",
       "3                  Python, Django, MySQL   \n",
       "4              Java, Spring Boot, Oracle   \n",
       "5             Flutter, Firebase, GraphQL   \n",
       "6                  WordPress, PHP, MySQL   \n",
       "7                    Magento, PHP, MySQL   \n",
       "8         React Native, Node.js, MongoDB   \n",
       "9                  iOS, Swift, Core Data   \n",
       "10       Android, Java, Room Persistence   \n",
       "11             Kotlin, Android, Firebase   \n",
       "12       Android TV, Kotlin, Android NDK   \n",
       "13                     iOS, Swift, ARKit   \n",
       "14        Cross-platform, Xamarin, Azure   \n",
       "15          Backend, Kotlin, Spring Boot   \n",
       "16         Frontend, TypeScript, Angular   \n",
       "17    Full-stack, JavaScript, Express.js   \n",
       "18  Machine Learning, Python, TensorFlow   \n",
       "19               DevOps, Jenkins, Docker   \n",
       "\n",
       "                                                Links  \n",
       "0                 https://example.com/react-portfolio  \n",
       "1               https://example.com/angular-portfolio  \n",
       "2                   https://example.com/vue-portfolio  \n",
       "3                https://example.com/python-portfolio  \n",
       "4                  https://example.com/java-portfolio  \n",
       "5               https://example.com/flutter-portfolio  \n",
       "6             https://example.com/wordpress-portfolio  \n",
       "7               https://example.com/magento-portfolio  \n",
       "8          https://example.com/react-native-portfolio  \n",
       "9                   https://example.com/ios-portfolio  \n",
       "10              https://example.com/android-portfolio  \n",
       "11       https://example.com/kotlin-android-portfolio  \n",
       "12           https://example.com/android-tv-portfolio  \n",
       "13               https://example.com/ios-ar-portfolio  \n",
       "14              https://example.com/xamarin-portfolio  \n",
       "15       https://example.com/kotlin-backend-portfolio  \n",
       "16  https://example.com/typescript-frontend-portfolio  \n",
       "17        https://example.com/full-stack-js-portfolio  \n",
       "18            https://example.com/ml-python-portfolio  \n",
       "19               https://example.com/devops-portfolio  "
      ]
     },
     "execution_count": 11,
     "metadata": {},
     "output_type": "execute_result"
    }
   ],
   "source": [
    "import pandas as pd\n",
    "\n",
    "df = pd.read_csv(\"my_portfolio.csv\")\n",
    "df"
   ]
  },
  {
   "cell_type": "code",
   "execution_count": 12,
   "id": "f7e888d4",
   "metadata": {
    "execution": {
     "iopub.execute_input": "2024-09-15T16:53:41.151571Z",
     "iopub.status.busy": "2024-09-15T16:53:41.151571Z",
     "iopub.status.idle": "2024-09-15T16:53:42.086492Z",
     "shell.execute_reply": "2024-09-15T16:53:42.086492Z",
     "shell.execute_reply.started": "2024-09-15T16:53:41.151571Z"
    }
   },
   "outputs": [],
   "source": [
    "import uuid\n",
    "import chromadb\n",
    "\n",
    "client = chromadb.PersistentClient('vectorstore')\n",
    "collection = client.get_or_create_collection(name=\"portfolio\")\n",
    "\n",
    "if not collection.count():\n",
    "    for _, row in df.iterrows():\n",
    "        collection.add(documents=row[\"Techstack\"],\n",
    "                       metadatas={\"links\": row[\"Links\"]},\n",
    "                       ids=[str(uuid.uuid4())])"
   ]
  },
  {
   "cell_type": "code",
   "execution_count": 13,
   "id": "91cb9e9d-b492-4bf8-86a6-edbe05704abf",
   "metadata": {
    "execution": {
     "iopub.execute_input": "2024-09-15T16:53:44.523216Z",
     "iopub.status.busy": "2024-09-15T16:53:44.523216Z",
     "iopub.status.idle": "2024-09-15T16:53:44.535652Z",
     "shell.execute_reply": "2024-09-15T16:53:44.535652Z",
     "shell.execute_reply.started": "2024-09-15T16:53:44.523216Z"
    }
   },
   "outputs": [
    {
     "data": {
      "text/plain": [
       "['Endpoint Protection',\n",
       " 'Web proxy security',\n",
       " 'Email security',\n",
       " 'IDS/IPS',\n",
       " 'WAF',\n",
       " 'PKI',\n",
       " 'Advanced Threat Protection',\n",
       " 'Cloud',\n",
       " 'Automation',\n",
       " 'Scripting',\n",
       " 'Web proxy certifications',\n",
       " 'Endpoint certifications']"
      ]
     },
     "execution_count": 13,
     "metadata": {},
     "output_type": "execute_result"
    }
   ],
   "source": [
    "job = json_res\n",
    "job['skills']"
   ]
  },
  {
   "cell_type": "code",
   "execution_count": 14,
   "id": "39ad2fa2",
   "metadata": {
    "execution": {
     "iopub.execute_input": "2024-09-15T16:53:46.940247Z",
     "iopub.status.busy": "2024-09-15T16:53:46.940247Z",
     "iopub.status.idle": "2024-09-15T16:53:47.888680Z",
     "shell.execute_reply": "2024-09-15T16:53:47.888680Z",
     "shell.execute_reply.started": "2024-09-15T16:53:46.940247Z"
    }
   },
   "outputs": [
    {
     "data": {
      "text/plain": [
       "[[{'links': 'https://example.com/xamarin-portfolio'},\n",
       "  {'links': 'https://example.com/full-stack-js-portfolio'}],\n",
       " [{'links': 'https://example.com/python-portfolio'},\n",
       "  {'links': 'https://example.com/magento-portfolio'}],\n",
       " [{'links': 'https://example.com/magento-portfolio'},\n",
       "  {'links': 'https://example.com/wordpress-portfolio'}],\n",
       " [{'links': 'https://example.com/magento-portfolio'},\n",
       "  {'links': 'https://example.com/wordpress-portfolio'}],\n",
       " [{'links': 'https://example.com/xamarin-portfolio'},\n",
       "  {'links': 'https://example.com/ml-python-portfolio'}],\n",
       " [{'links': 'https://example.com/ml-python-portfolio'},\n",
       "  {'links': 'https://example.com/magento-portfolio'}],\n",
       " [{'links': 'https://example.com/ios-ar-portfolio'},\n",
       "  {'links': 'https://example.com/android-portfolio'}],\n",
       " [{'links': 'https://example.com/xamarin-portfolio'},\n",
       "  {'links': 'https://example.com/devops-portfolio'}],\n",
       " [{'links': 'https://example.com/ml-python-portfolio'},\n",
       "  {'links': 'https://example.com/magento-portfolio'}],\n",
       " [{'links': 'https://example.com/ml-python-portfolio'},\n",
       "  {'links': 'https://example.com/magento-portfolio'}],\n",
       " [{'links': 'https://example.com/xamarin-portfolio'},\n",
       "  {'links': 'https://example.com/angular-portfolio'}],\n",
       " [{'links': 'https://example.com/xamarin-portfolio'},\n",
       "  {'links': 'https://example.com/angular-portfolio'}]]"
      ]
     },
     "execution_count": 14,
     "metadata": {},
     "output_type": "execute_result"
    }
   ],
   "source": [
    "links = collection.query(query_texts=job['skills'], n_results=2).get('metadatas', [])\n",
    "links"
   ]
  },
  {
   "cell_type": "code",
   "execution_count": 15,
   "id": "8bd36844",
   "metadata": {
    "execution": {
     "iopub.execute_input": "2024-09-15T16:53:50.585587Z",
     "iopub.status.busy": "2024-09-15T16:53:50.585587Z",
     "iopub.status.idle": "2024-09-15T16:53:50.596337Z",
     "shell.execute_reply": "2024-09-15T16:53:50.596337Z",
     "shell.execute_reply.started": "2024-09-15T16:53:50.585587Z"
    }
   },
   "outputs": [
    {
     "data": {
      "text/plain": [
       "{'role': 'Senior Information Security Engineer, ITC',\n",
       " 'experience': '5+ years',\n",
       " 'skills': ['Endpoint Protection',\n",
       "  'Web proxy security',\n",
       "  'Email security',\n",
       "  'IDS/IPS',\n",
       "  'WAF',\n",
       "  'PKI',\n",
       "  'Advanced Threat Protection',\n",
       "  'Cloud',\n",
       "  'Automation',\n",
       "  'Scripting',\n",
       "  'Web proxy certifications',\n",
       "  'Endpoint certifications'],\n",
       " 'description': 'We’re looking for a Sr. Cybersecurity Engineer to provide hands-on technical and tactical expertise to a 24x7 team of dedicated security engineers focused on maintaining operational stability while reducing risk. You will work on a team of experienced security professionals who are passionate about their work and Nike.'}"
      ]
     },
     "execution_count": 15,
     "metadata": {},
     "output_type": "execute_result"
    }
   ],
   "source": [
    "job"
   ]
  },
  {
   "cell_type": "code",
   "execution_count": 16,
   "id": "1ccfd720",
   "metadata": {
    "execution": {
     "iopub.execute_input": "2024-09-15T16:53:53.709780Z",
     "iopub.status.busy": "2024-09-15T16:53:53.709780Z",
     "iopub.status.idle": "2024-09-15T16:53:53.717056Z",
     "shell.execute_reply": "2024-09-15T16:53:53.717056Z",
     "shell.execute_reply.started": "2024-09-15T16:53:53.709780Z"
    }
   },
   "outputs": [
    {
     "data": {
      "text/plain": [
       "['Endpoint Protection',\n",
       " 'Web proxy security',\n",
       " 'Email security',\n",
       " 'IDS/IPS',\n",
       " 'WAF',\n",
       " 'PKI',\n",
       " 'Advanced Threat Protection',\n",
       " 'Cloud',\n",
       " 'Automation',\n",
       " 'Scripting',\n",
       " 'Web proxy certifications',\n",
       " 'Endpoint certifications']"
      ]
     },
     "execution_count": 16,
     "metadata": {},
     "output_type": "execute_result"
    }
   ],
   "source": [
    "job = json_res\n",
    "job['skills']"
   ]
  },
  {
   "cell_type": "code",
   "execution_count": 21,
   "id": "64a97dd2",
   "metadata": {
    "execution": {
     "iopub.execute_input": "2024-09-15T16:57:15.629656Z",
     "iopub.status.busy": "2024-09-15T16:57:15.629656Z",
     "iopub.status.idle": "2024-09-15T16:57:17.298328Z",
     "shell.execute_reply": "2024-09-15T16:57:17.298328Z",
     "shell.execute_reply.started": "2024-09-15T16:57:15.629656Z"
    }
   },
   "outputs": [
    {
     "name": "stdout",
     "output_type": "stream",
     "text": [
      "Subject: Expert Cybersecurity Solutions for Nike's ITC Team\n",
      "\n",
      "Dear Hiring Manager,\n",
      "\n",
      "I came across the job posting for a Senior Information Security Engineer, ITC at Nike, and I'm excited to introduce AtliQ, an AI & Software Consulting company that can help fulfill your team's needs. With our expertise in automation, scripting, and cloud security, we believe we can provide the necessary support to maintain operational stability while reducing risk.\n",
      "\n",
      "Our team of experienced security professionals has a proven track record of delivering tailored solutions that foster scalability, process optimization, cost reduction, and heightened overall efficiency. We've empowered numerous enterprises with our automated tools, and we're confident that we can do the same for Nike.\n",
      "\n",
      "Some of our relevant portfolio highlights include:\n",
      "\n",
      "* Automation and Scripting: https://example.com/python-portfolio\n",
      "* Cloud Security: https://example.com/ml-python-portfolio\n",
      "* DevOps: https://example.com/devops-portfolio\n",
      "\n",
      "These projects demonstrate our capabilities in developing and implementing secure, scalable, and efficient solutions. We're excited about the opportunity to collaborate with Nike's ITC team and contribute to the company's success.\n",
      "\n",
      "If you're interested in learning more about how AtliQ can support your team, I'd be happy to schedule a call to discuss further.\n",
      "\n",
      "Best regards,\n",
      "\n",
      "Abdul Fazal\n",
      "Business Development Executive\n",
      "AtliQ\n"
     ]
    }
   ],
   "source": [
    "prompt_email = PromptTemplate.from_template(\n",
    "        \"\"\"\n",
    "        ### JOB DESCRIPTION:\n",
    "        {job_description}\n",
    "        \n",
    "        ### INSTRUCTION:\n",
    "        You are Abdul Fazal, a business development executive at AtliQ. AtliQ is an AI & Software Consulting company dedicated to facilitating\n",
    "        the seamless integration of business processes through automated tools. \n",
    "        Over our experience, we have empowered numerous enterprises with tailored solutions, fostering scalability, \n",
    "        process optimization, cost reduction, and heightened overall efficiency. \n",
    "        Your job is to write a cold email to the client regarding the job mentioned above describing the capability of AtliQ \n",
    "        in fulfilling their needs.\n",
    "        Also add the most relevant ones from the following links to showcase Atliq's portfolio: {link_list}\n",
    "        Remember you are Abdul Fazal, BDE at AtliQ. \n",
    "        Do not provide a preamble.\n",
    "        ### EMAIL (NO PREAMBLE):\n",
    "        \n",
    "        \"\"\"\n",
    "        )\n",
    "\n",
    "chain_email = prompt_email | llm\n",
    "res = chain_email.invoke({\"job_description\": str(job), \"link_list\": links})\n",
    "print(res.content)"
   ]
  },
  {
   "cell_type": "code",
   "execution_count": null,
   "id": "f43d9237-917e-4f09-a23d-c0c308a8a0b9",
   "metadata": {},
   "outputs": [],
   "source": []
  }
 ],
 "metadata": {
  "kernelspec": {
   "display_name": "Python 3 (ipykernel)",
   "language": "python",
   "name": "python3"
  },
  "language_info": {
   "codemirror_mode": {
    "name": "ipython",
    "version": 3
   },
   "file_extension": ".py",
   "mimetype": "text/x-python",
   "name": "python",
   "nbconvert_exporter": "python",
   "pygments_lexer": "ipython3",
   "version": "3.11.1"
  }
 },
 "nbformat": 4,
 "nbformat_minor": 5
}
